{
 "cells": [
  {
   "cell_type": "code",
   "execution_count": null,
   "metadata": {},
   "outputs": [],
   "source": [
    "!nvcc --version\n",
    "!apt-get install cuda-11-8\n",
    "# !nvcc --version"
   ]
  },
  {
   "cell_type": "code",
   "execution_count": null,
   "metadata": {},
   "outputs": [],
   "source": [
    "# Clone the repository\n",
    "!git clone https://github.com/yachty66/ff.git\n",
    "\n",
    "# Uninstall onnxruntime and onnxruntime-gpu with yes flag\n",
    "!yes | pip uninstall -y onnxruntime onnxruntime-gpu\n",
    "\n",
    "# Run the installation script with yes flag\n",
    "!yes | python ff/install.py --torch cuda --onnxruntime cuda\n",
    "\n",
    "# Install onnxruntime-gpu with yes flag\n",
    "!yes | pip install onnxruntime-gpu==1.15.1\n",
    "\n",
    "# Install other packages with yes flag\n",
    "!yes | pip install basicsr==1.4.2\n",
    "!yes | pip install filetype==1.2.0\n",
    "!yes | pip install numpy\n",
    "!yes | pip install onnx==1.15.0\n",
    "# !yes | pip install onnxruntime==1.16.3  # Uncomment if needed\n",
    "!yes | pip install opencv-python==4.8.1.78\n",
    "!yes | pip install psutil==5.9.6\n",
    "!yes | pip install realesrgan==0.3.0\n",
    "!yes | pip install torch==2.1.2\n",
    "!yes | pip install tqdm==4.66.1"
   ]
  },
  {
   "cell_type": "code",
   "execution_count": null,
   "metadata": {},
   "outputs": [],
   "source": [
    "import os\n",
    "import torch\n",
    "os.chdir(\"ff\")"
   ]
  },
  {
   "cell_type": "code",
   "execution_count": null,
   "metadata": {},
   "outputs": [],
   "source": [
    "from google.colab import drive\n",
    "drive.mount('/content/drive')\n",
    "\n",
    "!cp /content/drive/MyDrive/movie.mp4 /content/video.mp4\n",
    "!cp /content/drive/MyDrive/image.jpeg /content/image.jpeg\n",
    "\n",
    "print(\"File copied. Checking file:\")\n",
    "!ls -l /content/video.mp4\n",
    "!ls -l /content/image.jpeg"
   ]
  },
  {
   "cell_type": "code",
   "execution_count": null,
   "metadata": {},
   "outputs": [],
   "source": [
    "\n",
    "import time\n",
    "image_gen_start_time = time.time()\n",
    "\n",
    "#looks like the new version does not support the old commands\n",
    "\n",
    "#default (prod)\n",
    "# with torch.cuda.amp.autocast():\n",
    "!python run.py headless-run -s \"/content/image.jpeg\" -t \"/content/video.mp4\" --face-detector-model yoloface -o /content/output.mp4 --execution-thread-count 16 --execution-queue-count 1 --face-mask-types box occlusion --face-swapper-model inswapper_128 --face-selector-mode reference --reference-face-distance 0.5 --execution-provider cuda --temp-frame-format png --face-enhancer-model gfpgan_1.4 --face-enhancer-blend 80\n",
    "# --face-detector-model\n",
    "# Default: yoloface\n",
    "# Choices: many retinaface scrfd yoloface\n",
    "\n",
    "image_gen_end_time = time.time()\n",
    "print(image_gen_end_time - image_gen_start_time)\n",
    "\n",
    "#yoloface = 344 seconds\n",
    "#many = 531 seconds\n",
    "#retinaface=368\n",
    "#scrfd=368"
   ]
  }
 ],
 "metadata": {
  "language_info": {
   "name": "python"
  }
 },
 "nbformat": 4,
 "nbformat_minor": 2
}
